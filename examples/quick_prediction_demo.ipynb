{
  "cells": [
    {
      "cell_type": "raw",
      "metadata": {
        "vscode": {
          "languageId": "raw"
        }
      },
      "source": [
        "# Quick Stock Prediction Demo\n",
        "\n",
        "This notebook demonstrates how to quickly get stock predictions using the trained models.\n",
        "\n",
        "**Prerequisites:**\n",
        "- Trained models in `../training/models/` directory\n",
        "- Required packages installed\n",
        "\n",
        "**What you'll learn:**\n",
        "- Load pre-trained models\n",
        "- Get predictions for any stock\n",
        "- Visualize results\n",
        "- Batch analyze multiple stocks\n"
      ]
    },
    {
      "cell_type": "code",
      "execution_count": null,
      "metadata": {},
      "outputs": [],
      "source": [
        "# 🚀 Try changing the ticker symbol to any stock you want to analyze!\n",
        "# Examples: AAPL, MSFT, GOOGL, AMZN, TSLA, META, NVDA, NFLX\n",
        "\n",
        "ticker = \"AAPL\"  # Change this to any stock ticker\n",
        "print(f\"Analyzing {ticker}...\")\n",
        "\n",
        "# This is a demo notebook - for real predictions, train models using the training guide!\n"
      ]
    }
  ],
  "metadata": {
    "language_info": {
      "name": "python"
    }
  },
  "nbformat": 4,
  "nbformat_minor": 2
}
